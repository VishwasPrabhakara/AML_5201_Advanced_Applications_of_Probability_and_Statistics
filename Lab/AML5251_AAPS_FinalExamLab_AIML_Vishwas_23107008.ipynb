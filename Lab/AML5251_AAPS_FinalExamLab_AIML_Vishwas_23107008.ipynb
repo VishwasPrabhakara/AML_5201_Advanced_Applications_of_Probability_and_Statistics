{
  "nbformat": 4,
  "nbformat_minor": 0,
  "metadata": {
    "kernelspec": {
      "display_name": "R",
      "language": "R",
      "name": "ir"
    },
    "language_info": {
      "codemirror_mode": "r",
      "file_extension": ".r",
      "mimetype": "text/x-r-source",
      "name": "R",
      "pygments_lexer": "r",
      "version": "3.3.1"
    },
    "colab": {
      "provenance": []
    }
  },
  "cells": [
    {
      "cell_type": "markdown",
      "source": [
        "\n",
        "\n",
        "---\n",
        "\n",
        "\n",
        "**$$\\color{orange}{AML\\ 5251\\,\\lvert\\, Advanced\\ Applications\\ of\\ Probability\\ and\\ Statistics\\,\\lvert\\,Lab\\ Final\\,\\lvert\\,Even\\ Semester\\ 2024}$$**\n",
        "\n",
        "---\n",
        "\n",
        "**Instructions:**\n",
        "1. There are 15 questions;\n",
        "2. The exam is open book, notes, internet etc. You are welcome to refer to any non-human resource such as ChatGPT, Grok, Bard etc., for answering the questions;\n",
        "3. However, you must *not* discuss your questions or code with anyone else, inside or outside the class;\n",
        "4. You should not share the code with anyone else; doing so will result in significant penalties for all involved.\n",
        "5. By submitting your work, you are implicitly honoring the agreement above;\n",
        "6. You might be called for a one-on-one during the exam after reviewing your submission to explain your code and answer additional questions. Failure to justify your code and answers will result in significant points docked from your exam score.\n",
        "7. After finishing the exam, delete all codes related to the exam from the computer you are working on.\n",
        "\n",
        "---\n",
        "\n",
        "**Upload the following two files by clicking [here](https://learnermanipal-my.sharepoint.com/:f:/g/personal/sudarsan_acharya_manipal_edu/Eto_Pwl2emZJj4IbamCelXsBwWHW3cap4dyk6KT6868yfw)**\n",
        "\n",
        "1. completed code clearly showing the output cells (.ipynb file) **with the naming convention example** $$\\color{cyan}{\\text{AAPS_LabFinal_SudarsanAcharya.ipynb}}$$ and\n",
        "2. PDF of your completed code clearly showing the output cells (go to file->print->save as PDF choosing Landscape orientation) **with the naming convention example** $$\\color{cyan}{\\text{AAPS_LabFinal_SudarsanAcharya.pdf}}$$\n",
        "\n",
        "\n",
        "---"
      ],
      "metadata": {
        "id": "QN8EcNAyG8fa"
      }
    },
    {
      "cell_type": "code",
      "metadata": {
        "id": "nTmGOkPXZjUv",
        "colab": {
          "base_uri": "https://localhost:8080/"
        },
        "outputId": "218b4ca2-eaf4-42f1-df9c-5bf78481f49a"
      },
      "source": [
        "# Install and load packages\n",
        "library(ggplot2)\n",
        "library(dplyr)\n",
        "install.packages('HSAUR')\n",
        "library(HSAUR)"
      ],
      "execution_count": null,
      "outputs": [
        {
          "output_type": "stream",
          "name": "stderr",
          "text": [
            "\n",
            "Attaching package: ‘dplyr’\n",
            "\n",
            "\n",
            "The following objects are masked from ‘package:stats’:\n",
            "\n",
            "    filter, lag\n",
            "\n",
            "\n",
            "The following objects are masked from ‘package:base’:\n",
            "\n",
            "    intersect, setdiff, setequal, union\n",
            "\n",
            "\n",
            "Installing package into ‘/usr/local/lib/R/site-library’\n",
            "(as ‘lib’ is unspecified)\n",
            "\n",
            "Loading required package: tools\n",
            "\n"
          ]
        }
      ]
    },
    {
      "cell_type": "code",
      "source": [
        "# Load the heptathlon dataset\n",
        "data(heptathlon)\n",
        "str(heptathlon)"
      ],
      "metadata": {
        "id": "mOQvB1t6Hp_x",
        "colab": {
          "base_uri": "https://localhost:8080/"
        },
        "outputId": "b508c085-a27b-4b81-c7cc-cf06e4976f7e"
      },
      "execution_count": null,
      "outputs": [
        {
          "output_type": "stream",
          "name": "stdout",
          "text": [
            "'data.frame':\t25 obs. of  8 variables:\n",
            " $ hurdles : num  12.7 12.8 13.2 13.6 13.5 ...\n",
            " $ highjump: num  1.86 1.8 1.83 1.8 1.74 1.83 1.8 1.8 1.83 1.77 ...\n",
            " $ shot    : num  15.8 16.2 14.2 15.2 14.8 ...\n",
            " $ run200m : num  22.6 23.6 23.1 23.9 23.9 ...\n",
            " $ longjump: num  7.27 6.71 6.68 6.25 6.32 6.33 6.37 6.47 6.11 6.28 ...\n",
            " $ javelin : num  45.7 42.6 44.5 42.8 47.5 ...\n",
            " $ run800m : num  129 126 124 132 128 ...\n",
            " $ score   : int  7291 6897 6858 6540 6540 6411 6351 6297 6252 6252 ...\n"
          ]
        }
      ]
    },
    {
      "cell_type": "code",
      "source": [
        "# Introduce a new column called sprint highlighting slow and fast sprinters\n",
        "heptathlon = heptathlon %>% mutate(sprint = ifelse(run200m <= 25 & run800m <= 129, 'fast', 'slow'))\n",
        "\n",
        "# Change sprint column to factor type\n",
        "heptathlon['sprint'] = lapply(heptathlon['sprint'], factor)"
      ],
      "metadata": {
        "id": "_KkksHnpKdQD"
      },
      "execution_count": null,
      "outputs": []
    },
    {
      "cell_type": "code",
      "source": [
        "# Print the first few rows of the dataframe\n",
        "head(heptathlon)"
      ],
      "metadata": {
        "id": "mKleqaDbLK_G",
        "colab": {
          "base_uri": "https://localhost:8080/",
          "height": 286
        },
        "outputId": "1fdb8506-7d8f-4761-e5b8-200c49d6a5f5"
      },
      "execution_count": null,
      "outputs": [
        {
          "output_type": "display_data",
          "data": {
            "text/html": [
              "<table class=\"dataframe\">\n",
              "<caption>A data.frame: 6 × 9</caption>\n",
              "<thead>\n",
              "\t<tr><th></th><th scope=col>hurdles</th><th scope=col>highjump</th><th scope=col>shot</th><th scope=col>run200m</th><th scope=col>longjump</th><th scope=col>javelin</th><th scope=col>run800m</th><th scope=col>score</th><th scope=col>sprint</th></tr>\n",
              "\t<tr><th></th><th scope=col>&lt;dbl&gt;</th><th scope=col>&lt;dbl&gt;</th><th scope=col>&lt;dbl&gt;</th><th scope=col>&lt;dbl&gt;</th><th scope=col>&lt;dbl&gt;</th><th scope=col>&lt;dbl&gt;</th><th scope=col>&lt;dbl&gt;</th><th scope=col>&lt;int&gt;</th><th scope=col>&lt;fct&gt;</th></tr>\n",
              "</thead>\n",
              "<tbody>\n",
              "\t<tr><th scope=row>Joyner-Kersee (USA)</th><td>12.69</td><td>1.86</td><td>15.80</td><td>22.56</td><td>7.27</td><td>45.66</td><td>128.51</td><td>7291</td><td>fast</td></tr>\n",
              "\t<tr><th scope=row>John (GDR)</th><td>12.85</td><td>1.80</td><td>16.23</td><td>23.65</td><td>6.71</td><td>42.56</td><td>126.12</td><td>6897</td><td>fast</td></tr>\n",
              "\t<tr><th scope=row>Behmer (GDR)</th><td>13.20</td><td>1.83</td><td>14.20</td><td>23.10</td><td>6.68</td><td>44.54</td><td>124.20</td><td>6858</td><td>fast</td></tr>\n",
              "\t<tr><th scope=row>Sablovskaite (URS)</th><td>13.61</td><td>1.80</td><td>15.23</td><td>23.92</td><td>6.25</td><td>42.78</td><td>132.24</td><td>6540</td><td>slow</td></tr>\n",
              "\t<tr><th scope=row>Choubenkova (URS)</th><td>13.51</td><td>1.74</td><td>14.76</td><td>23.93</td><td>6.32</td><td>47.46</td><td>127.90</td><td>6540</td><td>fast</td></tr>\n",
              "\t<tr><th scope=row>Schulz (GDR)</th><td>13.75</td><td>1.83</td><td>13.50</td><td>24.65</td><td>6.33</td><td>42.82</td><td>125.79</td><td>6411</td><td>fast</td></tr>\n",
              "</tbody>\n",
              "</table>\n"
            ],
            "text/markdown": "\nA data.frame: 6 × 9\n\n| <!--/--> | hurdles &lt;dbl&gt; | highjump &lt;dbl&gt; | shot &lt;dbl&gt; | run200m &lt;dbl&gt; | longjump &lt;dbl&gt; | javelin &lt;dbl&gt; | run800m &lt;dbl&gt; | score &lt;int&gt; | sprint &lt;fct&gt; |\n|---|---|---|---|---|---|---|---|---|---|\n| Joyner-Kersee (USA) | 12.69 | 1.86 | 15.80 | 22.56 | 7.27 | 45.66 | 128.51 | 7291 | fast |\n| John (GDR) | 12.85 | 1.80 | 16.23 | 23.65 | 6.71 | 42.56 | 126.12 | 6897 | fast |\n| Behmer (GDR) | 13.20 | 1.83 | 14.20 | 23.10 | 6.68 | 44.54 | 124.20 | 6858 | fast |\n| Sablovskaite (URS) | 13.61 | 1.80 | 15.23 | 23.92 | 6.25 | 42.78 | 132.24 | 6540 | slow |\n| Choubenkova (URS) | 13.51 | 1.74 | 14.76 | 23.93 | 6.32 | 47.46 | 127.90 | 6540 | fast |\n| Schulz (GDR) | 13.75 | 1.83 | 13.50 | 24.65 | 6.33 | 42.82 | 125.79 | 6411 | fast |\n\n",
            "text/latex": "A data.frame: 6 × 9\n\\begin{tabular}{r|lllllllll}\n  & hurdles & highjump & shot & run200m & longjump & javelin & run800m & score & sprint\\\\\n  & <dbl> & <dbl> & <dbl> & <dbl> & <dbl> & <dbl> & <dbl> & <int> & <fct>\\\\\n\\hline\n\tJoyner-Kersee (USA) & 12.69 & 1.86 & 15.80 & 22.56 & 7.27 & 45.66 & 128.51 & 7291 & fast\\\\\n\tJohn (GDR) & 12.85 & 1.80 & 16.23 & 23.65 & 6.71 & 42.56 & 126.12 & 6897 & fast\\\\\n\tBehmer (GDR) & 13.20 & 1.83 & 14.20 & 23.10 & 6.68 & 44.54 & 124.20 & 6858 & fast\\\\\n\tSablovskaite (URS) & 13.61 & 1.80 & 15.23 & 23.92 & 6.25 & 42.78 & 132.24 & 6540 & slow\\\\\n\tChoubenkova (URS) & 13.51 & 1.74 & 14.76 & 23.93 & 6.32 & 47.46 & 127.90 & 6540 & fast\\\\\n\tSchulz (GDR) & 13.75 & 1.83 & 13.50 & 24.65 & 6.33 & 42.82 & 125.79 & 6411 & fast\\\\\n\\end{tabular}\n",
            "text/plain": [
              "                    hurdles highjump shot  run200m longjump javelin run800m\n",
              "Joyner-Kersee (USA) 12.69   1.86     15.80 22.56   7.27     45.66   128.51 \n",
              "John (GDR)          12.85   1.80     16.23 23.65   6.71     42.56   126.12 \n",
              "Behmer (GDR)        13.20   1.83     14.20 23.10   6.68     44.54   124.20 \n",
              "Sablovskaite (URS)  13.61   1.80     15.23 23.92   6.25     42.78   132.24 \n",
              "Choubenkova (URS)   13.51   1.74     14.76 23.93   6.32     47.46   127.90 \n",
              "Schulz (GDR)        13.75   1.83     13.50 24.65   6.33     42.82   125.79 \n",
              "                    score sprint\n",
              "Joyner-Kersee (USA) 7291  fast  \n",
              "John (GDR)          6897  fast  \n",
              "Behmer (GDR)        6858  fast  \n",
              "Sablovskaite (URS)  6540  slow  \n",
              "Choubenkova (URS)   6540  fast  \n",
              "Schulz (GDR)        6411  fast  "
            ]
          },
          "metadata": {}
        }
      ]
    },
    {
      "cell_type": "markdown",
      "source": [
        "**Question-1**: Make a scatter plot between *run200m* (x-axis) and *longjump* (y-axis). What do you observe from this plot?"
      ],
      "metadata": {
        "id": "X0JnrB1UJcjl"
      }
    },
    {
      "cell_type": "code",
      "source": [
        "p1 = ggplot(data = heptathlon, aes(x = run200m, y = longjump)) +\n",
        "  geom_point()\n",
        "p1"
      ],
      "metadata": {
        "id": "rjdqXy86JSSM",
        "colab": {
          "base_uri": "https://localhost:8080/",
          "height": 437
        },
        "outputId": "f04ad877-a1c5-45e4-e14b-d97af7a6d4fa"
      },
      "execution_count": null,
      "outputs": [
        {
          "output_type": "display_data",
          "data": {
            "text/plain": [
              "plot without title"
            ],
            "image/png": "[encoded data removed]"
          },
          "metadata": {
            "image/png": {
              "width": 420,
              "height": 420
            }
          }
        }
      ]
    },
    {
      "cell_type": "markdown",
      "source": [
        "**From the graph we can tell that there is a negative correlation between longjump and run200m i.e if the value of run200m increases then longjump value decreases**"
      ],
      "metadata": {
        "id": "VDC8WSMPn6HU"
      }
    },
    {
      "cell_type": "markdown",
      "source": [
        "**Question-2**: Make a scatter plot between *run200m* (x-axis) and *longjump* (y-axis) with the data points color-coded using *sprint*. What do you observe from this plot?"
      ],
      "metadata": {
        "id": "GaQ8rXKQKJ_O"
      }
    },
    {
      "cell_type": "code",
      "source": [
        "p2 = ggplot(data = heptathlon, aes(x = run200m, y = longjump, color = sprint)) +\n",
        "  geom_point()\n",
        "p2"
      ],
      "metadata": {
        "id": "AGF9jdnjLbnu",
        "colab": {
          "base_uri": "https://localhost:8080/",
          "height": 437
        },
        "outputId": "05e58f24-4456-426c-b70e-6f063ee3f05e"
      },
      "execution_count": null,
      "outputs": [
        {
          "output_type": "display_data",
          "data": {
            "text/plain": [
              "plot without title"
            ],
            "image/png": "[encoded data removed]"
          },
          "metadata": {
            "image/png": {
              "width": 420,
              "height": 420
            }
          }
        }
      ]
    },
    {
      "cell_type": "markdown",
      "source": [
        "**From the above graph we can tell that the athletes who are fast sprinters generally have higher longjump values than athletes who are slow sprinters and also longjump and run200m are negatively correlated**"
      ],
      "metadata": {
        "id": "5RsuuVlbpxQb"
      }
    },
    {
      "cell_type": "markdown",
      "source": [
        "**Question-3**: Calculate Pearson's correlation between *run200m* and *longjump*. What do you observe?"
      ],
      "metadata": {
        "id": "5JKmt399M7bN"
      }
    },
    {
      "cell_type": "code",
      "source": [
        "cor(heptathlon$run200m, heptathlon$longjump, method = 'pearson')"
      ],
      "metadata": {
        "id": "wlSz_6lINFD4",
        "colab": {
          "base_uri": "https://localhost:8080/",
          "height": 34
        },
        "outputId": "3aae812d-a302-40cd-926e-a7fa85f31691"
      },
      "execution_count": null,
      "outputs": [
        {
          "output_type": "display_data",
          "data": {
            "text/html": [
              "-0.817205299701264"
            ],
            "text/markdown": "-0.817205299701264",
            "text/latex": "-0.817205299701264",
            "text/plain": [
              "[1] -0.8172053"
            ]
          },
          "metadata": {}
        }
      ]
    },
    {
      "cell_type": "markdown",
      "source": [
        "**Pearson's correlation value of -0.817 indicates a strong negative correlation between run200m and longjump**"
      ],
      "metadata": {
        "id": "LV71g5plqzyr"
      }
    },
    {
      "cell_type": "markdown",
      "source": [
        "**Question-4**: Select data frame without *sprint* and *score* columns."
      ],
      "metadata": {
        "id": "1MAM0idRNXie"
      }
    },
    {
      "cell_type": "code",
      "source": [
        "hData = heptathlon %>% select(-c(sprint,score))"
      ],
      "metadata": {
        "id": "ZJXS0TzrNc9h"
      },
      "execution_count": null,
      "outputs": []
    },
    {
      "cell_type": "code",
      "source": [
        "hData"
      ],
      "metadata": {
        "colab": {
          "base_uri": "https://localhost:8080/",
          "height": 882
        },
        "id": "swDkycKbrsGb",
        "outputId": "682ea50e-e1c6-4604-f426-ed0bbaa54189"
      },
      "execution_count": null,
      "outputs": [
        {
          "output_type": "display_data",
          "data": {
            "text/html": [
              "<table class=\"dataframe\">\n",
              "<caption>A data.frame: 25 × 7</caption>\n",
              "<thead>\n",
              "\t<tr><th></th><th scope=col>hurdles</th><th scope=col>highjump</th><th scope=col>shot</th><th scope=col>run200m</th><th scope=col>longjump</th><th scope=col>javelin</th><th scope=col>run800m</th></tr>\n",
              "\t<tr><th></th><th scope=col>&lt;dbl&gt;</th><th scope=col>&lt;dbl&gt;</th><th scope=col>&lt;dbl&gt;</th><th scope=col>&lt;dbl&gt;</th><th scope=col>&lt;dbl&gt;</th><th scope=col>&lt;dbl&gt;</th><th scope=col>&lt;dbl&gt;</th></tr>\n",
              "</thead>\n",
              "<tbody>\n",
              "\t<tr><th scope=row>Joyner-Kersee (USA)</th><td>12.69</td><td>1.86</td><td>15.80</td><td>22.56</td><td>7.27</td><td>45.66</td><td>128.51</td></tr>\n",
              "\t<tr><th scope=row>John (GDR)</th><td>12.85</td><td>1.80</td><td>16.23</td><td>23.65</td><td>6.71</td><td>42.56</td><td>126.12</td></tr>\n",
              "\t<tr><th scope=row>Behmer (GDR)</th><td>13.20</td><td>1.83</td><td>14.20</td><td>23.10</td><td>6.68</td><td>44.54</td><td>124.20</td></tr>\n",
              "\t<tr><th scope=row>Sablovskaite (URS)</th><td>13.61</td><td>1.80</td><td>15.23</td><td>23.92</td><td>6.25</td><td>42.78</td><td>132.24</td></tr>\n",
              "\t<tr><th scope=row>Choubenkova (URS)</th><td>13.51</td><td>1.74</td><td>14.76</td><td>23.93</td><td>6.32</td><td>47.46</td><td>127.90</td></tr>\n",
              "\t<tr><th scope=row>Schulz (GDR)</th><td>13.75</td><td>1.83</td><td>13.50</td><td>24.65</td><td>6.33</td><td>42.82</td><td>125.79</td></tr>\n",
              "\t<tr><th scope=row>Fleming (AUS)</th><td>13.38</td><td>1.80</td><td>12.88</td><td>23.59</td><td>6.37</td><td>40.28</td><td>132.54</td></tr>\n",
              "\t<tr><th scope=row>Greiner (USA)</th><td>13.55</td><td>1.80</td><td>14.13</td><td>24.48</td><td>6.47</td><td>38.00</td><td>133.65</td></tr>\n",
              "\t<tr><th scope=row>Lajbnerova (CZE)</th><td>13.63</td><td>1.83</td><td>14.28</td><td>24.86</td><td>6.11</td><td>42.20</td><td>136.05</td></tr>\n",
              "\t<tr><th scope=row>Bouraga (URS)</th><td>13.25</td><td>1.77</td><td>12.62</td><td>23.59</td><td>6.28</td><td>39.06</td><td>134.74</td></tr>\n",
              "\t<tr><th scope=row>Wijnsma (HOL)</th><td>13.75</td><td>1.86</td><td>13.01</td><td>25.03</td><td>6.34</td><td>37.86</td><td>131.49</td></tr>\n",
              "\t<tr><th scope=row>Dimitrova (BUL)</th><td>13.24</td><td>1.80</td><td>12.88</td><td>23.59</td><td>6.37</td><td>40.28</td><td>132.54</td></tr>\n",
              "\t<tr><th scope=row>Scheider (SWI)</th><td>13.85</td><td>1.86</td><td>11.58</td><td>24.87</td><td>6.05</td><td>47.50</td><td>134.93</td></tr>\n",
              "\t<tr><th scope=row>Braun (FRG)</th><td>13.71</td><td>1.83</td><td>13.16</td><td>24.78</td><td>6.12</td><td>44.58</td><td>142.82</td></tr>\n",
              "\t<tr><th scope=row>Ruotsalainen (FIN)</th><td>13.79</td><td>1.80</td><td>12.32</td><td>24.61</td><td>6.08</td><td>45.44</td><td>137.06</td></tr>\n",
              "\t<tr><th scope=row>Yuping (CHN)</th><td>13.93</td><td>1.86</td><td>14.21</td><td>25.00</td><td>6.40</td><td>38.60</td><td>146.67</td></tr>\n",
              "\t<tr><th scope=row>Hagger (GB)</th><td>13.47</td><td>1.80</td><td>12.75</td><td>25.47</td><td>6.34</td><td>35.76</td><td>138.48</td></tr>\n",
              "\t<tr><th scope=row>Brown (USA)</th><td>14.07</td><td>1.83</td><td>12.69</td><td>24.83</td><td>6.13</td><td>44.34</td><td>146.43</td></tr>\n",
              "\t<tr><th scope=row>Mulliner (GB)</th><td>14.39</td><td>1.71</td><td>12.68</td><td>24.92</td><td>6.10</td><td>37.76</td><td>138.02</td></tr>\n",
              "\t<tr><th scope=row>Hautenauve (BEL)</th><td>14.04</td><td>1.77</td><td>11.81</td><td>25.61</td><td>5.99</td><td>35.68</td><td>133.90</td></tr>\n",
              "\t<tr><th scope=row>Kytola (FIN)</th><td>14.31</td><td>1.77</td><td>11.66</td><td>25.69</td><td>5.75</td><td>39.48</td><td>133.35</td></tr>\n",
              "\t<tr><th scope=row>Geremias (BRA)</th><td>14.23</td><td>1.71</td><td>12.95</td><td>25.50</td><td>5.50</td><td>39.64</td><td>144.02</td></tr>\n",
              "\t<tr><th scope=row>Hui-Ing (TAI)</th><td>14.85</td><td>1.68</td><td>10.00</td><td>25.23</td><td>5.47</td><td>39.14</td><td>137.30</td></tr>\n",
              "\t<tr><th scope=row>Jeong-Mi (KOR)</th><td>14.53</td><td>1.71</td><td>10.83</td><td>26.61</td><td>5.50</td><td>39.26</td><td>139.17</td></tr>\n",
              "\t<tr><th scope=row>Launa (PNG)</th><td>16.42</td><td>1.50</td><td>11.78</td><td>26.16</td><td>4.88</td><td>46.38</td><td>163.43</td></tr>\n",
              "</tbody>\n",
              "</table>\n"
            ],
            "text/markdown": "\nA data.frame: 25 × 7\n\n| <!--/--> | hurdles &lt;dbl&gt; | highjump &lt;dbl&gt; | shot &lt;dbl&gt; | run200m &lt;dbl&gt; | longjump &lt;dbl&gt; | javelin &lt;dbl&gt; | run800m &lt;dbl&gt; |\n|---|---|---|---|---|---|---|---|\n| Joyner-Kersee (USA) | 12.69 | 1.86 | 15.80 | 22.56 | 7.27 | 45.66 | 128.51 |\n| John (GDR) | 12.85 | 1.80 | 16.23 | 23.65 | 6.71 | 42.56 | 126.12 |\n| Behmer (GDR) | 13.20 | 1.83 | 14.20 | 23.10 | 6.68 | 44.54 | 124.20 |\n| Sablovskaite (URS) | 13.61 | 1.80 | 15.23 | 23.92 | 6.25 | 42.78 | 132.24 |\n| Choubenkova (URS) | 13.51 | 1.74 | 14.76 | 23.93 | 6.32 | 47.46 | 127.90 |\n| Schulz (GDR) | 13.75 | 1.83 | 13.50 | 24.65 | 6.33 | 42.82 | 125.79 |\n| Fleming (AUS) | 13.38 | 1.80 | 12.88 | 23.59 | 6.37 | 40.28 | 132.54 |\n| Greiner (USA) | 13.55 | 1.80 | 14.13 | 24.48 | 6.47 | 38.00 | 133.65 |\n| Lajbnerova (CZE) | 13.63 | 1.83 | 14.28 | 24.86 | 6.11 | 42.20 | 136.05 |\n| Bouraga (URS) | 13.25 | 1.77 | 12.62 | 23.59 | 6.28 | 39.06 | 134.74 |\n| Wijnsma (HOL) | 13.75 | 1.86 | 13.01 | 25.03 | 6.34 | 37.86 | 131.49 |\n| Dimitrova (BUL) | 13.24 | 1.80 | 12.88 | 23.59 | 6.37 | 40.28 | 132.54 |\n| Scheider (SWI) | 13.85 | 1.86 | 11.58 | 24.87 | 6.05 | 47.50 | 134.93 |\n| Braun (FRG) | 13.71 | 1.83 | 13.16 | 24.78 | 6.12 | 44.58 | 142.82 |\n| Ruotsalainen (FIN) | 13.79 | 1.80 | 12.32 | 24.61 | 6.08 | 45.44 | 137.06 |\n| Yuping (CHN) | 13.93 | 1.86 | 14.21 | 25.00 | 6.40 | 38.60 | 146.67 |\n| Hagger (GB) | 13.47 | 1.80 | 12.75 | 25.47 | 6.34 | 35.76 | 138.48 |\n| Brown (USA) | 14.07 | 1.83 | 12.69 | 24.83 | 6.13 | 44.34 | 146.43 |\n| Mulliner (GB) | 14.39 | 1.71 | 12.68 | 24.92 | 6.10 | 37.76 | 138.02 |\n| Hautenauve (BEL) | 14.04 | 1.77 | 11.81 | 25.61 | 5.99 | 35.68 | 133.90 |\n| Kytola (FIN) | 14.31 | 1.77 | 11.66 | 25.69 | 5.75 | 39.48 | 133.35 |\n| Geremias (BRA) | 14.23 | 1.71 | 12.95 | 25.50 | 5.50 | 39.64 | 144.02 |\n| Hui-Ing (TAI) | 14.85 | 1.68 | 10.00 | 25.23 | 5.47 | 39.14 | 137.30 |\n| Jeong-Mi (KOR) | 14.53 | 1.71 | 10.83 | 26.61 | 5.50 | 39.26 | 139.17 |\n| Launa (PNG) | 16.42 | 1.50 | 11.78 | 26.16 | 4.88 | 46.38 | 163.43 |\n\n",
            "text/latex": "A data.frame: 25 × 7\n\\begin{tabular}{r|lllllll}\n  & hurdles & highjump & shot & run200m & longjump & javelin & run800m\\\\\n  & <dbl> & <dbl> & <dbl> & <dbl> & <dbl> & <dbl> & <dbl>\\\\\n\\hline\n\tJoyner-Kersee (USA) & 12.69 & 1.86 & 15.80 & 22.56 & 7.27 & 45.66 & 128.51\\\\\n\tJohn (GDR) & 12.85 & 1.80 & 16.23 & 23.65 & 6.71 & 42.56 & 126.12\\\\\n\tBehmer (GDR) & 13.20 & 1.83 & 14.20 & 23.10 & 6.68 & 44.54 & 124.20\\\\\n\tSablovskaite (URS) & 13.61 & 1.80 & 15.23 & 23.92 & 6.25 & 42.78 & 132.24\\\\\n\tChoubenkova (URS) & 13.51 & 1.74 & 14.76 & 23.93 & 6.32 & 47.46 & 127.90\\\\\n\tSchulz (GDR) & 13.75 & 1.83 & 13.50 & 24.65 & 6.33 & 42.82 & 125.79\\\\\n\tFleming (AUS) & 13.38 & 1.80 & 12.88 & 23.59 & 6.37 & 40.28 & 132.54\\\\\n\tGreiner (USA) & 13.55 & 1.80 & 14.13 & 24.48 & 6.47 & 38.00 & 133.65\\\\\n\tLajbnerova (CZE) & 13.63 & 1.83 & 14.28 & 24.86 & 6.11 & 42.20 & 136.05\\\\\n\tBouraga (URS) & 13.25 & 1.77 & 12.62 & 23.59 & 6.28 & 39.06 & 134.74\\\\\n\tWijnsma (HOL) & 13.75 & 1.86 & 13.01 & 25.03 & 6.34 & 37.86 & 131.49\\\\\n\tDimitrova (BUL) & 13.24 & 1.80 & 12.88 & 23.59 & 6.37 & 40.28 & 132.54\\\\\n\tScheider (SWI) & 13.85 & 1.86 & 11.58 & 24.87 & 6.05 & 47.50 & 134.93\\\\\n\tBraun (FRG) & 13.71 & 1.83 & 13.16 & 24.78 & 6.12 & 44.58 & 142.82\\\\\n\tRuotsalainen (FIN) & 13.79 & 1.80 & 12.32 & 24.61 & 6.08 & 45.44 & 137.06\\\\\n\tYuping (CHN) & 13.93 & 1.86 & 14.21 & 25.00 & 6.40 & 38.60 & 146.67\\\\\n\tHagger (GB) & 13.47 & 1.80 & 12.75 & 25.47 & 6.34 & 35.76 & 138.48\\\\\n\tBrown (USA) & 14.07 & 1.83 & 12.69 & 24.83 & 6.13 & 44.34 & 146.43\\\\\n\tMulliner (GB) & 14.39 & 1.71 & 12.68 & 24.92 & 6.10 & 37.76 & 138.02\\\\\n\tHautenauve (BEL) & 14.04 & 1.77 & 11.81 & 25.61 & 5.99 & 35.68 & 133.90\\\\\n\tKytola (FIN) & 14.31 & 1.77 & 11.66 & 25.69 & 5.75 & 39.48 & 133.35\\\\\n\tGeremias (BRA) & 14.23 & 1.71 & 12.95 & 25.50 & 5.50 & 39.64 & 144.02\\\\\n\tHui-Ing (TAI) & 14.85 & 1.68 & 10.00 & 25.23 & 5.47 & 39.14 & 137.30\\\\\n\tJeong-Mi (KOR) & 14.53 & 1.71 & 10.83 & 26.61 & 5.50 & 39.26 & 139.17\\\\\n\tLauna (PNG) & 16.42 & 1.50 & 11.78 & 26.16 & 4.88 & 46.38 & 163.43\\\\\n\\end{tabular}\n",
            "text/plain": [
              "                    hurdles highjump shot  run200m longjump javelin run800m\n",
              "Joyner-Kersee (USA) 12.69   1.86     15.80 22.56   7.27     45.66   128.51 \n",
              "John (GDR)          12.85   1.80     16.23 23.65   6.71     42.56   126.12 \n",
              "Behmer (GDR)        13.20   1.83     14.20 23.10   6.68     44.54   124.20 \n",
              "Sablovskaite (URS)  13.61   1.80     15.23 23.92   6.25     42.78   132.24 \n",
              "Choubenkova (URS)   13.51   1.74     14.76 23.93   6.32     47.46   127.90 \n",
              "Schulz (GDR)        13.75   1.83     13.50 24.65   6.33     42.82   125.79 \n",
              "Fleming (AUS)       13.38   1.80     12.88 23.59   6.37     40.28   132.54 \n",
              "Greiner (USA)       13.55   1.80     14.13 24.48   6.47     38.00   133.65 \n",
              "Lajbnerova (CZE)    13.63   1.83     14.28 24.86   6.11     42.20   136.05 \n",
              "Bouraga (URS)       13.25   1.77     12.62 23.59   6.28     39.06   134.74 \n",
              "Wijnsma (HOL)       13.75   1.86     13.01 25.03   6.34     37.86   131.49 \n",
              "Dimitrova (BUL)     13.24   1.80     12.88 23.59   6.37     40.28   132.54 \n",
              "Scheider (SWI)      13.85   1.86     11.58 24.87   6.05     47.50   134.93 \n",
              "Braun (FRG)         13.71   1.83     13.16 24.78   6.12     44.58   142.82 \n",
              "Ruotsalainen (FIN)  13.79   1.80     12.32 24.61   6.08     45.44   137.06 \n",
              "Yuping (CHN)        13.93   1.86     14.21 25.00   6.40     38.60   146.67 \n",
              "Hagger (GB)         13.47   1.80     12.75 25.47   6.34     35.76   138.48 \n",
              "Brown (USA)         14.07   1.83     12.69 24.83   6.13     44.34   146.43 \n",
              "Mulliner (GB)       14.39   1.71     12.68 24.92   6.10     37.76   138.02 \n",
              "Hautenauve (BEL)    14.04   1.77     11.81 25.61   5.99     35.68   133.90 \n",
              "Kytola (FIN)        14.31   1.77     11.66 25.69   5.75     39.48   133.35 \n",
              "Geremias (BRA)      14.23   1.71     12.95 25.50   5.50     39.64   144.02 \n",
              "Hui-Ing (TAI)       14.85   1.68     10.00 25.23   5.47     39.14   137.30 \n",
              "Jeong-Mi (KOR)      14.53   1.71     10.83 26.61   5.50     39.26   139.17 \n",
              "Launa (PNG)         16.42   1.50     11.78 26.16   4.88     46.38   163.43 "
            ]
          },
          "metadata": {}
        }
      ]
    },
    {
      "cell_type": "markdown",
      "source": [
        "**Question 5**: Using the code in the cell below, answer the following questions:\n",
        "\n",
        "1. Which principal component assigns the greatest weight (in magnitude) to *run200m*?\n",
        "2. Which principal component assigns the greatest weight (in magnitude) to *longjump*?\n",
        "3. *True/false*: the 2nd principal component score for a sample assigns a maximum weight to *javelin*.\n",
        "4. The 1st principal component assigns the least weight (in magnitude) to which feature?\n",
        "\n",
        "Does using the correlation matrix change your answers to the above questions? Which one will you finally use for dimension reduction using PCA: the covariance or the correlation matrix?"
      ],
      "metadata": {
        "id": "d2x4IksuN86o"
      }
    },
    {
      "cell_type": "code",
      "source": [
        "# Calculate eigenvalues & eigenvectors of sample covariance matrix\n",
        "e = eigen(cor(hData))\n",
        "\n",
        "# Eigenvectors of the sample covariance matrix\n",
        "u =e$vectors\n",
        "\n",
        "# Eigenvalues of the sample covariance matrix\n",
        "lambda = e$values"
      ],
      "metadata": {
        "id": "WMIxdyl_OQ1b"
      },
      "execution_count": null,
      "outputs": []
    },
    {
      "cell_type": "code",
      "source": [
        "print(lambda)"
      ],
      "metadata": {
        "colab": {
          "base_uri": "https://localhost:8080/"
        },
        "id": "UOZ2hkAntcya",
        "outputId": "52e0ce55-0a0e-4f0b-c87a-6e5c7b8dfee4"
      },
      "execution_count": null,
      "outputs": [
        {
          "output_type": "stream",
          "name": "stdout",
          "text": [
            "[1] 69.967253281 12.895102688  1.920157728  0.343059843  0.104857334\n",
            "[6]  0.021644924  0.001105536\n"
          ]
        }
      ]
    },
    {
      "cell_type": "code",
      "source": [
        "head(hData)"
      ],
      "metadata": {
        "colab": {
          "base_uri": "https://localhost:8080/",
          "height": 286
        },
        "id": "AD33zMKtJ75g",
        "outputId": "4504c97b-9208-47ba-d2f2-456bd1e28953"
      },
      "execution_count": null,
      "outputs": [
        {
          "output_type": "display_data",
          "data": {
            "text/html": [
              "<table class=\"dataframe\">\n",
              "<caption>A data.frame: 6 × 7</caption>\n",
              "<thead>\n",
              "\t<tr><th></th><th scope=col>hurdles</th><th scope=col>highjump</th><th scope=col>shot</th><th scope=col>run200m</th><th scope=col>longjump</th><th scope=col>javelin</th><th scope=col>run800m</th></tr>\n",
              "\t<tr><th></th><th scope=col>&lt;dbl&gt;</th><th scope=col>&lt;dbl&gt;</th><th scope=col>&lt;dbl&gt;</th><th scope=col>&lt;dbl&gt;</th><th scope=col>&lt;dbl&gt;</th><th scope=col>&lt;dbl&gt;</th><th scope=col>&lt;dbl&gt;</th></tr>\n",
              "</thead>\n",
              "<tbody>\n",
              "\t<tr><th scope=row>Joyner-Kersee (USA)</th><td>12.69</td><td>1.86</td><td>15.80</td><td>22.56</td><td>7.27</td><td>45.66</td><td>128.51</td></tr>\n",
              "\t<tr><th scope=row>John (GDR)</th><td>12.85</td><td>1.80</td><td>16.23</td><td>23.65</td><td>6.71</td><td>42.56</td><td>126.12</td></tr>\n",
              "\t<tr><th scope=row>Behmer (GDR)</th><td>13.20</td><td>1.83</td><td>14.20</td><td>23.10</td><td>6.68</td><td>44.54</td><td>124.20</td></tr>\n",
              "\t<tr><th scope=row>Sablovskaite (URS)</th><td>13.61</td><td>1.80</td><td>15.23</td><td>23.92</td><td>6.25</td><td>42.78</td><td>132.24</td></tr>\n",
              "\t<tr><th scope=row>Choubenkova (URS)</th><td>13.51</td><td>1.74</td><td>14.76</td><td>23.93</td><td>6.32</td><td>47.46</td><td>127.90</td></tr>\n",
              "\t<tr><th scope=row>Schulz (GDR)</th><td>13.75</td><td>1.83</td><td>13.50</td><td>24.65</td><td>6.33</td><td>42.82</td><td>125.79</td></tr>\n",
              "</tbody>\n",
              "</table>\n"
            ],
            "text/markdown": "\nA data.frame: 6 × 7\n\n| <!--/--> | hurdles &lt;dbl&gt; | highjump &lt;dbl&gt; | shot &lt;dbl&gt; | run200m &lt;dbl&gt; | longjump &lt;dbl&gt; | javelin &lt;dbl&gt; | run800m &lt;dbl&gt; |\n|---|---|---|---|---|---|---|---|\n| Joyner-Kersee (USA) | 12.69 | 1.86 | 15.80 | 22.56 | 7.27 | 45.66 | 128.51 |\n| John (GDR) | 12.85 | 1.80 | 16.23 | 23.65 | 6.71 | 42.56 | 126.12 |\n| Behmer (GDR) | 13.20 | 1.83 | 14.20 | 23.10 | 6.68 | 44.54 | 124.20 |\n| Sablovskaite (URS) | 13.61 | 1.80 | 15.23 | 23.92 | 6.25 | 42.78 | 132.24 |\n| Choubenkova (URS) | 13.51 | 1.74 | 14.76 | 23.93 | 6.32 | 47.46 | 127.90 |\n| Schulz (GDR) | 13.75 | 1.83 | 13.50 | 24.65 | 6.33 | 42.82 | 125.79 |\n\n",
            "text/latex": "A data.frame: 6 × 7\n\\begin{tabular}{r|lllllll}\n  & hurdles & highjump & shot & run200m & longjump & javelin & run800m\\\\\n  & <dbl> & <dbl> & <dbl> & <dbl> & <dbl> & <dbl> & <dbl>\\\\\n\\hline\n\tJoyner-Kersee (USA) & 12.69 & 1.86 & 15.80 & 22.56 & 7.27 & 45.66 & 128.51\\\\\n\tJohn (GDR) & 12.85 & 1.80 & 16.23 & 23.65 & 6.71 & 42.56 & 126.12\\\\\n\tBehmer (GDR) & 13.20 & 1.83 & 14.20 & 23.10 & 6.68 & 44.54 & 124.20\\\\\n\tSablovskaite (URS) & 13.61 & 1.80 & 15.23 & 23.92 & 6.25 & 42.78 & 132.24\\\\\n\tChoubenkova (URS) & 13.51 & 1.74 & 14.76 & 23.93 & 6.32 & 47.46 & 127.90\\\\\n\tSchulz (GDR) & 13.75 & 1.83 & 13.50 & 24.65 & 6.33 & 42.82 & 125.79\\\\\n\\end{tabular}\n",
            "text/plain": [
              "                    hurdles highjump shot  run200m longjump javelin run800m\n",
              "Joyner-Kersee (USA) 12.69   1.86     15.80 22.56   7.27     45.66   128.51 \n",
              "John (GDR)          12.85   1.80     16.23 23.65   6.71     42.56   126.12 \n",
              "Behmer (GDR)        13.20   1.83     14.20 23.10   6.68     44.54   124.20 \n",
              "Sablovskaite (URS)  13.61   1.80     15.23 23.92   6.25     42.78   132.24 \n",
              "Choubenkova (URS)   13.51   1.74     14.76 23.93   6.32     47.46   127.90 \n",
              "Schulz (GDR)        13.75   1.83     13.50 24.65   6.33     42.82   125.79 "
            ]
          },
          "metadata": {}
        }
      ]
    },
    {
      "cell_type": "code",
      "source": [
        "print(u)"
      ],
      "metadata": {
        "colab": {
          "base_uri": "https://localhost:8080/"
        },
        "id": "NhydbPTStg_C",
        "outputId": "43185f0f-4303-460a-aca0-d6b652a1930f"
      },
      "execution_count": null,
      "outputs": [
        {
          "output_type": "stream",
          "name": "stdout",
          "text": [
            "           [,1]        [,2]        [,3]        [,4]        [,5]        [,6]\n",
            "[1,]  0.4528710 -0.15792058  0.04514996 -0.02653873 -0.09494792  0.78334101\n",
            "[2,] -0.3771992  0.24807386 -0.36777902  0.67999172 -0.01879888  0.09939981\n",
            "[3,] -0.3630725 -0.28940743  0.67618919  0.12431725 -0.51165201 -0.05085983\n",
            "[4,]  0.4078950  0.26038545 -0.08359211  0.36106580 -0.64983404 -0.02495639\n",
            "[5,] -0.4562318  0.05587394  0.13931653  0.11129249  0.18429810  0.59020972\n",
            "[6,] -0.0754090 -0.84169212 -0.47156016  0.12079924 -0.13510669 -0.02724076\n",
            "[7,]  0.3749594 -0.22448984  0.39585671  0.60341130  0.50432116 -0.15555520\n",
            "            [,7]\n",
            "[1,]  0.38024707\n",
            "[2,]  0.43393114\n",
            "[3,]  0.21762491\n",
            "[4,] -0.45338483\n",
            "[5,] -0.61206388\n",
            "[6,] -0.17294667\n",
            "[7,] -0.09830963\n"
          ]
        }
      ]
    },
    {
      "cell_type": "markdown",
      "source": [
        "1. Which principal component assigns the greatest weight (in magnitude) to *run200m*?\n",
        "\n",
        "\n",
        "\n",
        "**Principal Component 4 assigns the greatest weight (in magnitude) to run200m**"
      ],
      "metadata": {
        "id": "AhScaTZwuchT"
      }
    },
    {
      "cell_type": "code",
      "source": [
        "max(0.072967545, 0.1012004268, 0.31005700 ,0.81585220,-0.46178680 , 0.082486244 ,-0.051312974)"
      ],
      "metadata": {
        "colab": {
          "base_uri": "https://localhost:8080/",
          "height": 34
        },
        "id": "G6XFWpJGvR1S",
        "outputId": "d5aa1ab3-08a7-4c11-8315-57ae71f665f4"
      },
      "execution_count": null,
      "outputs": [
        {
          "output_type": "display_data",
          "data": {
            "text/html": [
              "0.8158522"
            ],
            "text/markdown": "0.8158522",
            "text/latex": "0.8158522",
            "text/plain": [
              "[1] 0.8158522"
            ]
          },
          "metadata": {}
        }
      ]
    },
    {
      "cell_type": "markdown",
      "source": [
        "2. Which principal component assigns the greatest weight (in magnitude) to *longjump*?\n",
        "**Principal Component 6 assigns the greatest weight (in magnitude) to *longjump***"
      ],
      "metadata": {
        "id": "S5m8JlwJxHva"
      }
    },
    {
      "cell_type": "code",
      "source": [
        "max(-0.040369299 ,-0.0148845034 ,-0.18494319 ,-0.20419828, -0.31899315,0.894592570 ,-0.142110352)"
      ],
      "metadata": {
        "colab": {
          "base_uri": "https://localhost:8080/",
          "height": 34
        },
        "id": "6pRHqh1vwwt5",
        "outputId": "7ba872e7-e850-4044-8475-655d1b1dc93d"
      },
      "execution_count": null,
      "outputs": [
        {
          "output_type": "display_data",
          "data": {
            "text/html": [
              "0.89459257"
            ],
            "text/markdown": "0.89459257",
            "text/latex": "0.89459257",
            "text/plain": [
              "[1] 0.8945926"
            ]
          },
          "metadata": {}
        }
      ]
    },
    {
      "cell_type": "markdown",
      "source": [
        "3. *True/false*: the 2nd principal component score for a sample assigns a maximum weight to *javelin*.\n",
        "\n",
        "**True the 2nd principal component score for a sample assigns a maximum weight to *javelin* which is 0.9852954510**"
      ],
      "metadata": {
        "id": "2RdffO2xzwSi"
      }
    },
    {
      "cell_type": "markdown",
      "source": [
        "4. The 1st principal component assigns the least weight (in magnitude) to which feature?\n",
        "**The 1st principal component assigns the least weight (in magnitude) to *highjump* feature which is 0.005569781**"
      ],
      "metadata": {
        "id": "mq7hr4qc0Z8O"
      }
    },
    {
      "cell_type": "markdown",
      "source": [
        "Does using the correlation matrix change your answers to the above questions? Which one will you finally use for dimension reduction using PCA: the covariance or the correlation matrix\n",
        "\n",
        "**yes as correlation matrix is scaled the values will increase**\n",
        "**covariance matrix**\n",
        "\n"
      ],
      "metadata": {
        "id": "koEbwVqnH-_D"
      }
    },
    {
      "cell_type": "code",
      "source": [
        "X = scale(hData)\n",
        "\n",
        "e = eigen(cov(X))\n",
        "V = e$vectors\n",
        "lambda = e$values\n",
        "colnames(hData)\n",
        "print(V)\n",
        "print(lambda)"
      ],
      "metadata": {
        "colab": {
          "base_uri": "https://localhost:8080/",
          "height": 348
        },
        "id": "kfyyycDaJWo5",
        "outputId": "8f0aa8ea-2711-4956-982f-be8d9564567d"
      },
      "execution_count": null,
      "outputs": [
        {
          "output_type": "display_data",
          "data": {
            "text/html": [
              "<style>\n",
              ".list-inline {list-style: none; margin:0; padding: 0}\n",
              ".list-inline>li {display: inline-block}\n",
              ".list-inline>li:not(:last-child)::after {content: \"\\00b7\"; padding: 0 .5ex}\n",
              "</style>\n",
              "<ol class=list-inline><li>'hurdles'</li><li>'highjump'</li><li>'shot'</li><li>'run200m'</li><li>'longjump'</li><li>'javelin'</li><li>'run800m'</li></ol>\n"
            ],
            "text/markdown": "1. 'hurdles'\n2. 'highjump'\n3. 'shot'\n4. 'run200m'\n5. 'longjump'\n6. 'javelin'\n7. 'run800m'\n\n\n",
            "text/latex": "\\begin{enumerate*}\n\\item 'hurdles'\n\\item 'highjump'\n\\item 'shot'\n\\item 'run200m'\n\\item 'longjump'\n\\item 'javelin'\n\\item 'run800m'\n\\end{enumerate*}\n",
            "text/plain": [
              "[1] \"hurdles\"  \"highjump\" \"shot\"     \"run200m\"  \"longjump\" \"javelin\"  \"run800m\" "
            ]
          },
          "metadata": {}
        },
        {
          "output_type": "stream",
          "name": "stdout",
          "text": [
            "           [,1]        [,2]        [,3]        [,4]        [,5]        [,6]\n",
            "[1,]  0.4528710 -0.15792058  0.04514996 -0.02653873 -0.09494792  0.78334101\n",
            "[2,] -0.3771992  0.24807386 -0.36777902  0.67999172 -0.01879888  0.09939981\n",
            "[3,] -0.3630725 -0.28940743  0.67618919  0.12431725 -0.51165201 -0.05085983\n",
            "[4,]  0.4078950  0.26038545 -0.08359211  0.36106580 -0.64983404 -0.02495639\n",
            "[5,] -0.4562318  0.05587394  0.13931653  0.11129249  0.18429810  0.59020972\n",
            "[6,] -0.0754090 -0.84169212 -0.47156016  0.12079924 -0.13510669 -0.02724076\n",
            "[7,]  0.3749594 -0.22448984  0.39585671  0.60341130  0.50432116 -0.15555520\n",
            "            [,7]\n",
            "[1,]  0.38024707\n",
            "[2,]  0.43393114\n",
            "[3,]  0.21762491\n",
            "[4,] -0.45338483\n",
            "[5,] -0.61206388\n",
            "[6,] -0.17294667\n",
            "[7,] -0.09830963\n",
            "[1] 4.46027516 1.19432056 0.52101413 0.45716683 0.24526674 0.07295558 0.04900101\n"
          ]
        }
      ]
    },
    {
      "cell_type": "markdown",
      "source": [
        "**Question-6**: Explain the output of the cell below?"
      ],
      "metadata": {
        "id": "HRiUYbSiPiQq"
      }
    },
    {
      "cell_type": "code",
      "source": [
        "# Extract data matrix from data frame\n",
        "X = as.matrix(hData)\n",
        "\n",
        "print(X %*% u[, 1])"
      ],
      "metadata": {
        "id": "v216Px9jPqZ2",
        "colab": {
          "base_uri": "https://localhost:8080/"
        },
        "outputId": "9cfc33c2-a9a3-4b67-ef88-73eae95393d6"
      },
      "execution_count": null,
      "outputs": [
        {
          "output_type": "stream",
          "name": "stdout",
          "text": [
            "                        [,1]\n",
            "Joyner-Kersee (USA) 128.6514\n",
            "John (GDR)          126.3423\n",
            "Behmer (GDR)        124.5962\n",
            "Sablovskaite (URS)  132.5776\n",
            "Choubenkova (URS)   128.3359\n",
            "Schulz (GDR)        126.3804\n",
            "Fleming (AUS)       132.9964\n",
            "Greiner (USA)       134.0565\n",
            "Lajbnerova (CZE)    136.4989\n",
            "Bouraga (URS)       135.1834\n",
            "Wijnsma (HOL)       132.0612\n",
            "Dimitrova (BUL)     132.9867\n",
            "Scheider (SWI)      135.6531\n",
            "Braun (FRG)         143.3104\n",
            "Ruotsalainen (FIN)  137.6684\n",
            "Yuping (CHN)        147.0239\n",
            "Hagger (GB)         139.0075\n",
            "Brown (USA)         146.9512\n",
            "Mulliner (GB)       138.6044\n",
            "Hautenauve (BEL)    134.6055\n",
            "Kytola (FIN)        134.1319\n",
            "Geremias (BRA)      144.5973\n",
            "Hui-Ing (TAI)       138.1891\n",
            "Jeong-Mi (KOR)      140.0555\n",
            "Launa (PNG)         164.1953\n"
          ]
        }
      ]
    },
    {
      "cell_type": "markdown",
      "source": [
        "**The output represents the contribution of each sample to the variation captured by the 1st PC Score**"
      ],
      "metadata": {
        "id": "P_JwrJfW1KZh"
      }
    },
    {
      "cell_type": "markdown",
      "source": [
        "**Question-7**: Explain the output of the cell below?"
      ],
      "metadata": {
        "id": "NSzTWi0NQNGM"
      }
    },
    {
      "cell_type": "code",
      "source": [
        "print(var(X %*% u[, 2]))"
      ],
      "metadata": {
        "id": "vUEfeajtQPhf",
        "colab": {
          "base_uri": "https://localhost:8080/"
        },
        "outputId": "085de3c1-aa0a-424f-cbce-221e1f9e98d3"
      },
      "execution_count": null,
      "outputs": [
        {
          "output_type": "stream",
          "name": "stdout",
          "text": [
            "        [,1]\n",
            "[1,] 12.8951\n"
          ]
        }
      ]
    },
    {
      "cell_type": "markdown",
      "source": [
        "**It is the total variance captured by the 2nd Principal Component**"
      ],
      "metadata": {
        "id": "fcafmUAH2GZV"
      }
    },
    {
      "cell_type": "markdown",
      "source": [
        "**Question-8**: How many minimum principal components are needed to explain more than 90% of the variance in the data? In one line, explain how you could use the corresponding principal component scores (projected values) to get a final score for each athlete so that they can be ranked."
      ],
      "metadata": {
        "id": "eFJrGA4nQsME"
      }
    },
    {
      "cell_type": "code",
      "source": [
        "cumsum(lambda)"
      ],
      "metadata": {
        "id": "eTb9yhcuQv_i",
        "colab": {
          "base_uri": "https://localhost:8080/",
          "height": 34
        },
        "outputId": "2151e928-27ba-45d5-c09c-899e869ec0fa"
      },
      "execution_count": null,
      "outputs": [
        {
          "output_type": "display_data",
          "data": {
            "text/html": [
              "<style>\n",
              ".list-inline {list-style: none; margin:0; padding: 0}\n",
              ".list-inline>li {display: inline-block}\n",
              ".list-inline>li:not(:last-child)::after {content: \"\\00b7\"; padding: 0 .5ex}\n",
              "</style>\n",
              "<ol class=list-inline><li>69.9672532806531</li><li>82.862355968615</li><li>84.7825136966759</li><li>85.1255735392405</li><li>85.2304308736865</li><li>85.2520757974337</li><li>85.2531813333333</li></ol>\n"
            ],
            "text/markdown": "1. 69.9672532806531\n2. 82.862355968615\n3. 84.7825136966759\n4. 85.1255735392405\n5. 85.2304308736865\n6. 85.2520757974337\n7. 85.2531813333333\n\n\n",
            "text/latex": "\\begin{enumerate*}\n\\item 69.9672532806531\n\\item 82.862355968615\n\\item 84.7825136966759\n\\item 85.1255735392405\n\\item 85.2304308736865\n\\item 85.2520757974337\n\\item 85.2531813333333\n\\end{enumerate*}\n",
            "text/plain": [
              "[1] 69.96725 82.86236 84.78251 85.12557 85.23043 85.25208 85.25318"
            ]
          },
          "metadata": {}
        }
      ]
    },
    {
      "cell_type": "code",
      "source": [
        "sum(lambda)"
      ],
      "metadata": {
        "colab": {
          "base_uri": "https://localhost:8080/",
          "height": 34
        },
        "id": "4N87v6NY39mK",
        "outputId": "d717a3f9-81c3-4d8c-de01-b6656bcae4fb"
      },
      "execution_count": null,
      "outputs": [
        {
          "output_type": "display_data",
          "data": {
            "text/html": [
              "85.2531813333333"
            ],
            "text/markdown": "85.2531813333333",
            "text/latex": "85.2531813333333",
            "text/plain": [
              "[1] 85.25318"
            ]
          },
          "metadata": {}
        }
      ]
    },
    {
      "cell_type": "code",
      "source": [
        "variance <- cumsum(lambda) / sum(lambda)\n",
        "variance"
      ],
      "metadata": {
        "colab": {
          "base_uri": "https://localhost:8080/",
          "height": 34
        },
        "id": "jhzq3a1P34gJ",
        "outputId": "490ebf51-ab0b-4853-af60-620e44b16921"
      },
      "execution_count": null,
      "outputs": [
        {
          "output_type": "display_data",
          "data": {
            "text/html": [
              "<style>\n",
              ".list-inline {list-style: none; margin:0; padding: 0}\n",
              ".list-inline>li {display: inline-block}\n",
              ".list-inline>li:not(:last-child)::after {content: \"\\00b7\"; padding: 0 .5ex}\n",
              "</style>\n",
              "<ol class=list-inline><li>0.820699617144921</li><li>0.971956174217472</li><li>0.994479178028358</li><li>0.998503190237631</li><li>0.999733142396671</li><li>0.999987032320879</li><li>1</li></ol>\n"
            ],
            "text/markdown": "1. 0.820699617144921\n2. 0.971956174217472\n3. 0.994479178028358\n4. 0.998503190237631\n5. 0.999733142396671\n6. 0.999987032320879\n7. 1\n\n\n",
            "text/latex": "\\begin{enumerate*}\n\\item 0.820699617144921\n\\item 0.971956174217472\n\\item 0.994479178028358\n\\item 0.998503190237631\n\\item 0.999733142396671\n\\item 0.999987032320879\n\\item 1\n\\end{enumerate*}\n",
            "text/plain": [
              "[1] 0.8206996 0.9719562 0.9944792 0.9985032 0.9997331 0.9999870 1.0000000"
            ]
          },
          "metadata": {}
        }
      ]
    },
    {
      "cell_type": "code",
      "source": [
        "num_components_90 <- which.max(variance > 0.9)\n",
        "num_components_90\n"
      ],
      "metadata": {
        "colab": {
          "base_uri": "https://localhost:8080/",
          "height": 34
        },
        "id": "6HGig84X4jop",
        "outputId": "d4646320-8b05-42df-9453-2522ac220446"
      },
      "execution_count": null,
      "outputs": [
        {
          "output_type": "display_data",
          "data": {
            "text/html": [
              "2"
            ],
            "text/markdown": "2",
            "text/latex": "2",
            "text/plain": [
              "[1] 2"
            ]
          },
          "metadata": {}
        }
      ]
    },
    {
      "cell_type": "markdown",
      "source": [
        "How many minimum principal components are needed to explain more than 90% of the variance in the data?\n",
        "\n",
        "**2 Principal Components**"
      ],
      "metadata": {
        "id": "wIcKs2oZ4Q-M"
      }
    },
    {
      "cell_type": "markdown",
      "source": [
        "In one line, explain how you could use the corresponding principal component scores (projected values) to get a final score for each athlete so that they can be ranked.\n",
        "\n",
        "**Add their scores from each selected principal component. This combined score reflects the athlete's overall performance across different aspects captured by those principal components. Based on this we can rank them**"
      ],
      "metadata": {
        "id": "rM-98BVO46q5"
      }
    },
    {
      "cell_type": "code",
      "source": [
        "scores <- X %*% u[, 1:num_components_90]\n",
        "\n",
        "final_scores <- rowSums(scores)\n",
        "\n",
        "\n",
        "ranked_athletes <- order(final_scores, decreasing = TRUE)\n",
        "ranked_athletes\n"
      ],
      "metadata": {
        "colab": {
          "base_uri": "https://localhost:8080/",
          "height": 34
        },
        "id": "aYnT1v6N5nwB",
        "outputId": "5655710e-aafd-429c-faa0-f03b9dfc790d"
      },
      "execution_count": null,
      "outputs": [
        {
          "output_type": "display_data",
          "data": {
            "text/html": [
              "<style>\n",
              ".list-inline {list-style: none; margin:0; padding: 0}\n",
              ".list-inline>li {display: inline-block}\n",
              ".list-inline>li:not(:last-child)::after {content: \"\\00b7\"; padding: 0 .5ex}\n",
              "</style>\n",
              "<ol class=list-inline><li>25</li><li>16</li><li>22</li><li>17</li><li>18</li><li>24</li><li>19</li><li>23</li><li>20</li><li>14</li><li>10</li><li>8</li><li>21</li><li>11</li><li>9</li><li>7</li><li>12</li><li>15</li><li>4</li><li>13</li><li>6</li><li>2</li><li>1</li><li>5</li><li>3</li></ol>\n"
            ],
            "text/markdown": "1. 25\n2. 16\n3. 22\n4. 17\n5. 18\n6. 24\n7. 19\n8. 23\n9. 20\n10. 14\n11. 10\n12. 8\n13. 21\n14. 11\n15. 9\n16. 7\n17. 12\n18. 15\n19. 4\n20. 13\n21. 6\n22. 2\n23. 1\n24. 5\n25. 3\n\n\n",
            "text/latex": "\\begin{enumerate*}\n\\item 25\n\\item 16\n\\item 22\n\\item 17\n\\item 18\n\\item 24\n\\item 19\n\\item 23\n\\item 20\n\\item 14\n\\item 10\n\\item 8\n\\item 21\n\\item 11\n\\item 9\n\\item 7\n\\item 12\n\\item 15\n\\item 4\n\\item 13\n\\item 6\n\\item 2\n\\item 1\n\\item 5\n\\item 3\n\\end{enumerate*}\n",
            "text/plain": [
              " [1] 25 16 22 17 18 24 19 23 20 14 10  8 21 11  9  7 12 15  4 13  6  2  1  5  3"
            ]
          },
          "metadata": {}
        }
      ]
    },
    {
      "cell_type": "markdown",
      "source": [
        "**Question 9**: how many levels does the categorical variable *sprint* have? What is the reference level?"
      ],
      "metadata": {
        "id": "KjevgCitSqkt"
      }
    },
    {
      "cell_type": "code",
      "source": [
        "contrasts(heptathlon$sprint)"
      ],
      "metadata": {
        "id": "osbFtC2ZTBGd",
        "colab": {
          "base_uri": "https://localhost:8080/",
          "height": 147
        },
        "outputId": "64b5431e-3f87-4406-b143-8034710a4028"
      },
      "execution_count": null,
      "outputs": [
        {
          "output_type": "display_data",
          "data": {
            "text/html": [
              "<table class=\"dataframe\">\n",
              "<caption>A matrix: 2 × 1 of type dbl</caption>\n",
              "<thead>\n",
              "\t<tr><th></th><th scope=col>slow</th></tr>\n",
              "</thead>\n",
              "<tbody>\n",
              "\t<tr><th scope=row>fast</th><td>0</td></tr>\n",
              "\t<tr><th scope=row>slow</th><td>1</td></tr>\n",
              "</tbody>\n",
              "</table>\n"
            ],
            "text/markdown": "\nA matrix: 2 × 1 of type dbl\n\n| <!--/--> | slow |\n|---|---|\n| fast | 0 |\n| slow | 1 |\n\n",
            "text/latex": "A matrix: 2 × 1 of type dbl\n\\begin{tabular}{r|l}\n  & slow\\\\\n\\hline\n\tfast & 0\\\\\n\tslow & 1\\\\\n\\end{tabular}\n",
            "text/plain": [
              "     slow\n",
              "fast 0   \n",
              "slow 1   "
            ]
          },
          "metadata": {}
        }
      ]
    },
    {
      "cell_type": "markdown",
      "source": [
        " how many levels does the categorical variable *sprint* have? What is the reference level?\n",
        "\n",
        " **2 levels with reference level fast**"
      ],
      "metadata": {
        "id": "gpyCY-M67gYZ"
      }
    },
    {
      "cell_type": "markdown",
      "source": [
        "**Question 10**: fit a linear model for approximating *score* as a function of *shot* and *sprint*. Print the model's summary. How accurate is the model?"
      ],
      "metadata": {
        "id": "8TfmUgYmTTop"
      }
    },
    {
      "cell_type": "code",
      "source": [
        "model = lm(data = heptathlon, score ~ shot + sprint)\n",
        "summary(model)"
      ],
      "metadata": {
        "id": "TXNGUyWjTrN9",
        "colab": {
          "base_uri": "https://localhost:8080/",
          "height": 368
        },
        "outputId": "f675f259-7d40-418c-d12f-0600bda06ff9"
      },
      "execution_count": null,
      "outputs": [
        {
          "output_type": "display_data",
          "data": {
            "text/plain": [
              "\n",
              "Call:\n",
              "lm(formula = score ~ shot + sprint, data = heptathlon)\n",
              "\n",
              "Residuals:\n",
              "     Min       1Q   Median       3Q      Max \n",
              "-1124.58  -164.40    35.93   207.34   496.35 \n",
              "\n",
              "Coefficients:\n",
              "            Estimate Std. Error t value Pr(>|t|)    \n",
              "(Intercept)   3080.0      883.0   3.488 0.002084 ** \n",
              "shot           249.7       58.4   4.275 0.000308 ***\n",
              "sprintslow    -330.4      213.4  -1.548 0.135842    \n",
              "---\n",
              "Signif. codes:  0 ‘***’ 0.001 ‘**’ 0.01 ‘*’ 0.05 ‘.’ 0.1 ‘ ’ 1\n",
              "\n",
              "Residual standard error: 338.5 on 22 degrees of freedom\n",
              "Multiple R-squared:  0.6749,\tAdjusted R-squared:  0.6454 \n",
              "F-statistic: 22.84 on 2 and 22 DF,  p-value: 4.282e-06\n"
            ]
          },
          "metadata": {}
        }
      ]
    },
    {
      "cell_type": "markdown",
      "source": [
        "**The model is 64.54% accurate**"
      ],
      "metadata": {
        "id": "Qbp9JO7j8Ba5"
      }
    },
    {
      "cell_type": "markdown",
      "source": [
        "**Question 11**: fit a linear model for approximating *score* as a function of *shot*, *javelin*, and *sprint*. Print the model's summary and answer the following questions:\n",
        "\n",
        "1. Did the addition of the new predictor *javelin* improve the model accuracy?\n",
        "2. *True/false* (explain in one line): the model suggests that there is a possible linear relationship between an athlete's score and javelin performance.\n",
        "3. For a 1 metre increase in shot put throw and with the same javelin and sprint performance, we can say with 95% confidence that the athlete's score will increase/decrease by an amount in the interval [?, ?]."
      ],
      "metadata": {
        "id": "aK_TiMibWhi_"
      }
    },
    {
      "cell_type": "code",
      "source": [
        "model = lm(data = heptathlon, score ~ shot + sprint + javelin)\n",
        "summary(model)"
      ],
      "metadata": {
        "id": "fiFG9GL-WKj3",
        "colab": {
          "base_uri": "https://localhost:8080/",
          "height": 386
        },
        "outputId": "2f2c9c43-55b6-42b0-bbab-3150e1eb6e65"
      },
      "execution_count": null,
      "outputs": [
        {
          "output_type": "display_data",
          "data": {
            "text/plain": [
              "\n",
              "Call:\n",
              "lm(formula = score ~ shot + sprint + javelin, data = heptathlon)\n",
              "\n",
              "Residuals:\n",
              "     Min       1Q   Median       3Q      Max \n",
              "-1090.63  -173.25    12.63   203.29   537.00 \n",
              "\n",
              "Coefficients:\n",
              "            Estimate Std. Error t value Pr(>|t|)    \n",
              "(Intercept) 3349.127   1347.536   2.485  0.02144 *  \n",
              "shot         249.548     59.669   4.182  0.00042 ***\n",
              "sprintslow  -354.060    235.151  -1.506  0.14705    \n",
              "javelin       -5.996     22.297  -0.269  0.79061    \n",
              "---\n",
              "Signif. codes:  0 ‘***’ 0.001 ‘**’ 0.01 ‘*’ 0.05 ‘.’ 0.1 ‘ ’ 1\n",
              "\n",
              "Residual standard error: 345.9 on 21 degrees of freedom\n",
              "Multiple R-squared:  0.676,\tAdjusted R-squared:  0.6298 \n",
              "F-statistic: 14.61 on 3 and 21 DF,  p-value: 2.301e-05\n"
            ]
          },
          "metadata": {}
        }
      ]
    },
    {
      "cell_type": "code",
      "source": [
        "249.548-2*59.669\n"
      ],
      "metadata": {
        "colab": {
          "base_uri": "https://localhost:8080/",
          "height": 34
        },
        "id": "ieD9BIwS-5Rz",
        "outputId": "b13bc0e9-e1d1-4ab8-963b-a937c486c98b"
      },
      "execution_count": null,
      "outputs": [
        {
          "output_type": "display_data",
          "data": {
            "text/html": [
              "130.21"
            ],
            "text/markdown": "130.21",
            "text/latex": "130.21",
            "text/plain": [
              "[1] 130.21"
            ]
          },
          "metadata": {}
        }
      ]
    },
    {
      "cell_type": "code",
      "source": [
        "249.548+2*59.669"
      ],
      "metadata": {
        "colab": {
          "base_uri": "https://localhost:8080/",
          "height": 34
        },
        "id": "gxG0pu5D_VgA",
        "outputId": "2fca358b-272c-496b-87ec-44b2af91c523"
      },
      "execution_count": null,
      "outputs": [
        {
          "output_type": "display_data",
          "data": {
            "text/html": [
              "368.886"
            ],
            "text/markdown": "368.886",
            "text/latex": "368.886",
            "text/plain": [
              "[1] 368.886"
            ]
          },
          "metadata": {}
        }
      ]
    },
    {
      "cell_type": "markdown",
      "source": [
        "1. Did the addition of the new predictor *javelin* improve the model accuracy?\n",
        "\n",
        "**No the model accuracy decreased**\n",
        "\n",
        "2. *True/false* (explain in one line): the model suggests that there is a possible linear relationship between an athlete's score and javelin performance.\n",
        "**False there is p value which is very much greater than 5% or even 10% threshold therefore there is no possible linear relationship between javelin and athlete's score**\n",
        "\n",
        "3. For a 1 metre increase in shot put throw and with the same javelin and sprint performance, we can say with 95% confidence that the athlete's score will increase/decrease by an amount in the interval [?, ?].\n",
        "\n",
        "**For a 1 metre increase in shot put throw and with the same javelin and sprint performance, we can say with 95% confidence that the athlete's score will increase/decrease by an amount in the interval [130.21, 368.886]**"
      ],
      "metadata": {
        "id": "KOXqMM5e-3iA"
      }
    },
    {
      "cell_type": "markdown",
      "source": [
        "**Question 12**: fit a linear model for approximating *score* as a function of *highjump*, and *sprint*. Print the model's summary and answer the following questions:\n",
        "1. How accurate is this model?\n",
        "2. Considering a p-value of 10% as cutoff, are there any insignificant features?"
      ],
      "metadata": {
        "id": "zhGiXlKiaRSv"
      }
    },
    {
      "cell_type": "code",
      "source": [
        "model = lm(data = heptathlon, score ~ highjump + sprint )\n",
        "summary(model)"
      ],
      "metadata": {
        "id": "VE246Jl-aXmp",
        "colab": {
          "base_uri": "https://localhost:8080/",
          "height": 368
        },
        "outputId": "6e7e6222-2ea3-4acc-99cf-136bc76fc3f6"
      },
      "execution_count": null,
      "outputs": [
        {
          "output_type": "display_data",
          "data": {
            "text/plain": [
              "\n",
              "Call:\n",
              "lm(formula = score ~ highjump + sprint, data = heptathlon)\n",
              "\n",
              "Residuals:\n",
              "    Min      1Q  Median      3Q     Max \n",
              "-476.12 -162.88  -29.12  146.92  502.33 \n",
              "\n",
              "Coefficients:\n",
              "            Estimate Std. Error t value Pr(>|t|)    \n",
              "(Intercept)  -2030.8     1175.5  -1.728   0.0981 .  \n",
              "highjump      4873.2      646.0   7.544 1.54e-07 ***\n",
              "sprintslow    -703.3      123.3  -5.702 9.81e-06 ***\n",
              "---\n",
              "Signif. codes:  0 ‘***’ 0.001 ‘**’ 0.01 ‘*’ 0.05 ‘.’ 0.1 ‘ ’ 1\n",
              "\n",
              "Residual standard error: 241.9 on 22 degrees of freedom\n",
              "Multiple R-squared:  0.8341,\tAdjusted R-squared:  0.819 \n",
              "F-statistic: 55.29 on 2 and 22 DF,  p-value: 2.625e-09\n"
            ]
          },
          "metadata": {}
        }
      ]
    },
    {
      "cell_type": "markdown",
      "source": [
        "1. How accurate is this model?\n",
        "**81.9% accurate**\n",
        "\n",
        "2. Considering a p-value of 10% as cutoff, are there any insignificant features?\n",
        "\n",
        "**NO there are no insignificant features**"
      ],
      "metadata": {
        "id": "7U68OobI_zrA"
      }
    },
    {
      "cell_type": "markdown",
      "source": [
        "**Question 13**: Using the model built above, extract the slope and intercept for estimating the *score* of *slow* and *fast* athletes. It would be helpful to start with the regression equation $\\hat{y}^{(i)} = \\hat{\\beta}_0 + \\hat{\\beta}_1x_1^{(i)} + \\hat{\\beta}_2x_2^{(i)},$ and then write two separate equations for *slow* and *fast* athletes."
      ],
      "metadata": {
        "id": "RVWY6flOX1Ds"
      }
    },
    {
      "cell_type": "code",
      "source": [
        "coef = coef(model)"
      ],
      "metadata": {
        "colab": {
          "base_uri": "https://localhost:8080/",
          "height": 34
        },
        "id": "TCZASjfNBsT5",
        "outputId": "afd4d1e2-bd63-468f-a935-a1ed3f67e8fd"
      },
      "execution_count": null,
      "outputs": [
        {
          "output_type": "display_data",
          "data": {
            "text/html": [
              "<style>\n",
              ".dl-inline {width: auto; margin:0; padding: 0}\n",
              ".dl-inline>dt, .dl-inline>dd {float: none; width: auto; display: inline-block}\n",
              ".dl-inline>dt::after {content: \":\\0020\"; padding-right: .5ex}\n",
              ".dl-inline>dt:not(:first-of-type) {padding-left: .5ex}\n",
              "</style><dl class=dl-inline><dt>(Intercept)</dt><dd>-2030.827929374</dd><dt>highjump</dt><dd>4873.19422150883</dd><dt>sprintslow</dt><dd>-703.255216693418</dd></dl>\n"
            ],
            "text/markdown": "(Intercept)\n:   -2030.827929374highjump\n:   4873.19422150883sprintslow\n:   -703.255216693418\n\n",
            "text/latex": "\\begin{description*}\n\\item[(Intercept)] -2030.827929374\n\\item[highjump] 4873.19422150883\n\\item[sprintslow] -703.255216693418\n\\end{description*}\n",
            "text/plain": [
              "(Intercept)    highjump  sprintslow \n",
              " -2030.8279   4873.1942   -703.2552 "
            ]
          },
          "metadata": {}
        }
      ]
    },
    {
      "cell_type": "code",
      "source": [
        "\n",
        "coef <- coef(model)\n",
        "\n",
        "\n",
        "intercept_slow <- coef[\"(Intercept)\"] + coef[\"sprintslow\"]\n",
        "slope_slow <- coef[\"highjump\"]\n",
        "\n",
        "\n",
        "intercept_fast <- coef[\"(Intercept)\"]\n",
        "slope_fast <- coef[\"highjump\"]\n",
        "\n",
        "\n",
        "print(paste(\"Intercept for slow athletes:\", intercept_slow))\n",
        "print(paste(\"Slope for slow athletes:\", slope_slow))\n",
        "print(paste(\"Intercept for fast athletes:\", intercept_fast))\n",
        "print(paste(\"Slope for fast athletes:\", slope_fast))\n"
      ],
      "metadata": {
        "id": "6UHiJ-yQYVxV",
        "colab": {
          "base_uri": "https://localhost:8080/"
        },
        "outputId": "18ae9147-fb40-44bf-d7c3-7f52e2e57aac"
      },
      "execution_count": null,
      "outputs": [
        {
          "output_type": "stream",
          "name": "stdout",
          "text": [
            "[1] \"Intercept for slow athletes: -2714.515940448\"\n",
            "[1] \"Slope for slow athletes: 3889.38458022362\"\n",
            "[1] \"Intercept for fast athletes: -2303.48561353747\"\n",
            "[1] \"Slope for fast athletes: 3889.38458022362\"\n"
          ]
        }
      ]
    },
    {
      "cell_type": "markdown",
      "source": [
        "**Question 14**: fit a linear model for approximating *score* as a function of *shot*, *highjump*, and *sprint*. Print the model's summary and answer the following questions:\n",
        "1. How accurate is this model?\n",
        "2. Considering a p-value of 10% as cutoff, are there any insignificant features?"
      ],
      "metadata": {
        "id": "vBDzPiBwbSzP"
      }
    },
    {
      "cell_type": "markdown",
      "source": [
        "89.59%\n",
        "\n",
        "there is no insignificant\n"
      ],
      "metadata": {
        "id": "RsMDIm9WG8wY"
      }
    },
    {
      "cell_type": "code",
      "source": [
        "model = lm(data = heptathlon, score ~ highjump + sprint + shot )\n",
        "summary(model)"
      ],
      "metadata": {
        "id": "SWGFulSKYlXZ",
        "colab": {
          "base_uri": "https://localhost:8080/",
          "height": 386
        },
        "outputId": "2658e9f4-8181-4c9b-c2c4-087b0a4805ed"
      },
      "execution_count": null,
      "outputs": [
        {
          "output_type": "display_data",
          "data": {
            "text/plain": [
              "\n",
              "Call:\n",
              "lm(formula = score ~ highjump + sprint + shot, data = heptathlon)\n",
              "\n",
              "Residuals:\n",
              "    Min      1Q  Median      3Q     Max \n",
              "-386.03 -103.72  -37.17  126.92  363.95 \n",
              "\n",
              "Coefficients:\n",
              "            Estimate Std. Error t value Pr(>|t|)    \n",
              "(Intercept) -2508.72     898.90  -2.791  0.01095 *  \n",
              "highjump     3950.55     537.93   7.344 3.16e-07 ***\n",
              "sprintslow   -416.72     116.22  -3.586  0.00174 ** \n",
              "shot          144.30      34.74   4.153  0.00045 ***\n",
              "---\n",
              "Signif. codes:  0 ‘***’ 0.001 ‘**’ 0.01 ‘*’ 0.05 ‘.’ 0.1 ‘ ’ 1\n",
              "\n",
              "Residual standard error: 183.4 on 21 degrees of freedom\n",
              "Multiple R-squared:  0.9089,\tAdjusted R-squared:  0.8959 \n",
              "F-statistic: 69.84 on 3 and 21 DF,  p-value: 4.306e-11\n"
            ]
          },
          "metadata": {}
        }
      ]
    },
    {
      "cell_type": "markdown",
      "source": [
        "**Question 15**: Complete the code below to build a linear model for approximating *score* as a function of *shot*, *highjump*, and *sprint* using the training data. Predict the model performance by applying it to the test data."
      ],
      "metadata": {
        "id": "ssAikIJMdLyu"
      }
    },
    {
      "cell_type": "code",
      "source": [
        "# Split the data into 80% train and 20% test parts\n",
        "set.seed(0)\n",
        "train_ind = sample(seq_len(nrow(hData)), size = floor(0.8 * nrow(hData)))\n",
        "\n",
        "hDataTrain = heptathlon[train_ind, ]\n",
        "hDataTest = heptathlon[-train_ind, ]\n",
        "\n",
        "# Build linear regression model\n",
        "model = lm(data = hDataTrain, score ~shot+ highjump+sprint )\n",
        "\n",
        "# Predict on the test data\n",
        "predict(model, hDataTest)\n",
        "\n",
        "# Print the true scores for the test data\n",
        "print(hDataTest$score)"
      ],
      "metadata": {
        "id": "y0919mOJdPNN",
        "colab": {
          "base_uri": "https://localhost:8080/",
          "height": 53
        },
        "outputId": "8068b405-4932-411a-a569-0d160be3ae30"
      },
      "execution_count": null,
      "outputs": [
        {
          "output_type": "display_data",
          "data": {
            "text/html": [
              "<style>\n",
              ".dl-inline {width: auto; margin:0; padding: 0}\n",
              ".dl-inline>dt, .dl-inline>dd {float: none; width: auto; display: inline-block}\n",
              ".dl-inline>dt::after {content: \":\\0020\"; padding-right: .5ex}\n",
              ".dl-inline>dt:not(:first-of-type) {padding-left: .5ex}\n",
              "</style><dl class=dl-inline><dt>Behmer (GDR)</dt><dd>6753.11994030178</dd><dt>Greiner (USA)</dt><dd>6215.84946865763</dd><dt>Scheider (SWI)</dt><dd>6101.00613370509</dd><dt>Kytola (FIN)</dt><dd>5761.88564414429</dd><dt>Jeong-Mi (KOR)</dt><dd>5415.18479674039</dd></dl>\n"
            ],
            "text/markdown": "Behmer (GDR)\n:   6753.11994030178Greiner (USA)\n:   6215.84946865763Scheider (SWI)\n:   6101.00613370509Kytola (FIN)\n:   5761.88564414429Jeong-Mi (KOR)\n:   5415.18479674039\n\n",
            "text/latex": "\\begin{description*}\n\\item[Behmer (GDR)] 6753.11994030178\n\\item[Greiner (USA)] 6215.84946865763\n\\item[Scheider (SWI)] 6101.00613370509\n\\item[Kytola (FIN)] 5761.88564414429\n\\item[Jeong-Mi (KOR)] 5415.18479674039\n\\end{description*}\n",
            "text/plain": [
              "  Behmer (GDR)  Greiner (USA) Scheider (SWI)   Kytola (FIN) Jeong-Mi (KOR) \n",
              "      6753.120       6215.849       6101.006       5761.886       5415.185 "
            ]
          },
          "metadata": {}
        },
        {
          "output_type": "stream",
          "name": "stdout",
          "text": [
            "[1] 6858 6297 6137 5686 5289\n"
          ]
        }
      ]
    }
  ]
}